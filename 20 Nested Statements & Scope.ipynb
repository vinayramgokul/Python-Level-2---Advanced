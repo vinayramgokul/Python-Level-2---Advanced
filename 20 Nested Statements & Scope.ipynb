{
 "cells": [
  {
   "cell_type": "markdown",
   "metadata": {},
   "source": [
    "When you create a variable name in python the name is stored in namespace \n",
    "\n",
    "varaiable name also has a scope, the scope determines the visibility of that variable name to the other parts of the code\n",
    "\n"
   ]
  },
  {
   "cell_type": "markdown",
   "metadata": {},
   "source": [
    " Name Assignment will create or change local name by default. Name references search(at most) four scopes these are:\n",
    "  - local\n",
    "  - enclosing functions\n",
    "  - global \n",
    "  - built-in"
   ]
  },
  {
   "cell_type": "markdown",
   "metadata": {},
   "source": [
    "l: local - names declared in anyway within a function (def or lambda) and not declared in global in that function"
   ]
  },
  {
   "cell_type": "markdown",
   "metadata": {},
   "source": [
    "e: enclosing function locals: - Name in the local scope of any and all enclosing functions(def or lambda), from inner to outer "
   ]
  },
  {
   "cell_type": "markdown",
   "metadata": {},
   "source": [
    "g: global (module) - Name assigned at the top levvel of a module file or declared global in def within the file "
   ]
  },
  {
   "cell_type": "markdown",
   "metadata": {},
   "source": [
    "b: built in - Names pre assigned in built in name module ex - open , range "
   ]
  },
  {
   "cell_type": "markdown",
   "metadata": {},
   "source": [
    "local - "
   ]
  },
  {
   "cell_type": "code",
   "execution_count": 3,
   "metadata": {},
   "outputs": [
    {
     "data": {
      "text/plain": [
       "20"
      ]
     },
     "execution_count": 3,
     "metadata": {},
     "output_type": "execute_result"
    }
   ],
   "source": [
    "x = lambda r: r+r\n",
    "x(10)\n",
    "\n",
    "#here r is the local function"
   ]
  },
  {
   "cell_type": "markdown",
   "metadata": {},
   "source": [
    "e: enclosing function locals: - Name in the local scope of any and all enclosing functions(def or lambda), from inner to outer \n",
    "\n",
    "g: global (module) - Name assigned at the top levvel of a module file or declared global in def within the file \n"
   ]
  },
  {
   "cell_type": "code",
   "execution_count": 1,
   "metadata": {},
   "outputs": [
    {
     "name": "stdout",
     "output_type": "stream",
     "text": [
      "Hello Vinay Ram\n",
      "This is enclosing function\n"
     ]
    }
   ],
   "source": [
    "#Global Variable\n",
    "name = 'This is enclosing function'\n",
    "\n",
    "def greet():\n",
    "    #Enclosing Function\n",
    "    name = 'Vinay Ram'\n",
    "    \n",
    "    def addHello():\n",
    "        #Name looks for its value inside this function\n",
    "        print ('Hello ' + name)\n",
    "        \n",
    "    addHello()\n",
    "        \n",
    "greet()\n",
    "print (name)"
   ]
  },
  {
   "cell_type": "markdown",
   "metadata": {
    "collapsed": true
   },
   "source": [
    "b: built in - Names pre assigned in built in name module ex - open , range "
   ]
  },
  {
   "cell_type": "code",
   "execution_count": 3,
   "metadata": {},
   "outputs": [
    {
     "data": {
      "text/plain": [
       "6"
      ]
     },
     "execution_count": 3,
     "metadata": {},
     "output_type": "execute_result"
    }
   ],
   "source": [
    "\n",
    "#len is a built in function\n",
    "a = [1,2,3,4,5,6]\n",
    "len(a)"
   ]
  },
  {
   "cell_type": "markdown",
   "metadata": {
    "collapsed": true
   },
   "source": [
    "When we declare a local variable inside a function definition , they are not related to same name out side the function, therefore the names are local to the function  This is called the scope of the variable , all variables have scope of the block which they have declared in start from point of declaration"
   ]
  },
  {
   "cell_type": "code",
   "execution_count": 12,
   "metadata": {},
   "outputs": [
    {
     "name": "stdout",
     "output_type": "stream",
     "text": [
      "x is taking global  99\n",
      "Now the value of 55\n",
      "Global x value 99\n"
     ]
    }
   ],
   "source": [
    "x = '99'\n",
    "\n",
    "def ap(x):\n",
    "    print ('x is taking global ',x)\n",
    "    x = 55\n",
    "    print ('Now the value of',x)\n",
    "ap(x)\n",
    "print ('Global x value',x)\n"
   ]
  },
  {
   "cell_type": "code",
   "execution_count": 22,
   "metadata": {},
   "outputs": [
    {
     "name": "stdout",
     "output_type": "stream",
     "text": [
      "The value of x is 50\n",
      "The value of x is  50\n",
      "The value of x in now 2\n",
      "The value of x is 2\n",
      "The value of x is 100\n"
     ]
    }
   ],
   "source": [
    "x = 50\n",
    "\n",
    "def func():\n",
    "    global x\n",
    "    print('The value of x is ',x)\n",
    "    x = 2\n",
    "    print('The value of x in now',x)\n",
    "    \n",
    "print('The value of x is',x)    \n",
    "func()\n",
    "print('The value of x is',x)\n",
    "x = '100'\n",
    "print('The value of x is',x)\n"
   ]
  },
  {
   "cell_type": "code",
   "execution_count": null,
   "metadata": {
    "collapsed": true
   },
   "outputs": [],
   "source": []
  },
  {
   "cell_type": "code",
   "execution_count": null,
   "metadata": {
    "collapsed": true
   },
   "outputs": [],
   "source": []
  },
  {
   "cell_type": "code",
   "execution_count": null,
   "metadata": {
    "collapsed": true
   },
   "outputs": [],
   "source": []
  },
  {
   "cell_type": "code",
   "execution_count": null,
   "metadata": {
    "collapsed": true
   },
   "outputs": [],
   "source": []
  },
  {
   "cell_type": "code",
   "execution_count": null,
   "metadata": {
    "collapsed": true
   },
   "outputs": [],
   "source": []
  }
 ],
 "metadata": {
  "kernelspec": {
   "display_name": "Python 3",
   "language": "python",
   "name": "python3"
  },
  "language_info": {
   "codemirror_mode": {
    "name": "ipython",
    "version": 3
   },
   "file_extension": ".py",
   "mimetype": "text/x-python",
   "name": "python",
   "nbconvert_exporter": "python",
   "pygments_lexer": "ipython3",
   "version": "3.6.3"
  }
 },
 "nbformat": 4,
 "nbformat_minor": 2
}
